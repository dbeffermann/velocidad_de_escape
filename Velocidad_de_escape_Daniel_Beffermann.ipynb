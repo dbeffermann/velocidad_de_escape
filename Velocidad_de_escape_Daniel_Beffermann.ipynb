{
 "cells": [
  {
   "cell_type": "markdown",
   "metadata": {},
   "source": [
    "<img src = \"images/desafiolatamLogo.jpg\" width = \"100\" />\n",
    "\n",
    "<br>\n",
    "<center><h1>Desafío - Velocidad de escape</h1></center>\n",
    "<center><h4>Autor: Daniel Beffermann</h4></center>\n",
    "<center><h5>Fecha: 13/09/2020</h5></center>\n",
    "\n",
    "<h5>1.- Librerias a importar</h5>\n",
    "\n",
    "* `numpy` : Para realizar el cálculo de la raíz cuadrada.\n",
    "* `sys`   : Para permitir el ingreso de parámetros directamente desde el terminal.\n",
    "\n",
    "<h5>2.- Métodos a utilizar</h5>\n",
    "\n",
    "* `float()`     (Método Nativo)   : Transforma a número decimal el input del usuario.\n",
    "* `round()`     (Método Nativo)   : Redondea la respuesta del cálculo para acortar decimales.\n",
    "* `np.sqrt()`   (Método de numpy) : Entrgea la raíz cuadrada de un número.\n",
    "    \n",
    "<h5>3.- Pasos del proceso:</h5>\n",
    "<br>\n",
    "<img src = \"images/Flujo.png\" width = \"700\" />\n",
    "\n",
    "\n",
    "        \n",
    "**Importante: El script de python que permite el ingreso de parámetros desde el terminal se encuentra\n",
    "            en esta misma carpeta bajo el nombre** `escape.py`. **Por motivos prácticos aquí utilizamos el método               nativo** `input()` **para que el programa funcione en este notebook.**\n",
    "\n",
    "`python escape.py gravedad radio`\n",
    "    \n",
    "\n",
    "\n"
   ]
  },
  {
   "cell_type": "code",
   "execution_count": 2,
   "metadata": {},
   "outputs": [],
   "source": [
    "import numpy as np"
   ]
  },
  {
   "cell_type": "code",
   "execution_count": 5,
   "metadata": {},
   "outputs": [
    {
     "name": "stdout",
     "output_type": "stream",
     "text": [
      "Ingrese Gravedad en m/s^2 del planeta: 9.8\n",
      "Ingrese Radio en kms del planeta: 6371\n",
      "La velocidad de escape es: 11174.596 m/s\n"
     ]
    }
   ],
   "source": [
    "g = float(input(\"Ingrese Gravedad en m/s^2 del planeta: \"))\n",
    "\n",
    "r = float(input(\"Ingrese Radio en kms del planeta: \"))\n",
    "\n",
    "r = r*1000\n",
    "\n",
    "ve = np.sqrt(2*g*r)\n",
    "\n",
    "print(f\"La velocidad de escape es: {round(ve,3)} m/s\")"
   ]
  },
  {
   "cell_type": "code",
   "execution_count": null,
   "metadata": {},
   "outputs": [],
   "source": []
  }
 ],
 "metadata": {
  "kernelspec": {
   "display_name": "Python 3",
   "language": "python",
   "name": "python3"
  },
  "language_info": {
   "codemirror_mode": {
    "name": "ipython",
    "version": 3
   },
   "file_extension": ".py",
   "mimetype": "text/x-python",
   "name": "python",
   "nbconvert_exporter": "python",
   "pygments_lexer": "ipython3",
   "version": "3.7.3"
  }
 },
 "nbformat": 4,
 "nbformat_minor": 4
}
